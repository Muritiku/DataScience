{
 "cells": [
  {
   "cell_type": "markdown",
   "metadata": {},
   "source": [
    "# \"Advisor for one day travel\"\n",
    "### Applied Data Science Capstone project\n",
    "### *by Anton Dziavitsyn 2019*\n",
    "\n",
    "### **This report will contain all sections, they will be adding by work progress. Please - just look at titles.**"
   ]
  },
  {
   "cell_type": "markdown",
   "metadata": {},
   "source": [
    "## Introduction/Problem description\n",
    "\n",
    "We all love travels. But in most cases, our visits to particular town is not long.  \n",
    "  \n",
    "**What to do if you have only one day for visit?**  \n",
    "It is the case, when we should find one place to visit in town, which will contain most interesting and rated venues. Because we have not much time, and we want to go to one location by transport and just walk and look around.  \n",
    "  \n",
    "So main goal of that project is to create Advisor, which can advise to us what part of town we should visit at one day."
   ]
  },
  {
   "cell_type": "markdown",
   "metadata": {},
   "source": [
    "## Functionality description/problem discussion\n",
    "  \n",
    "This advisor will use Foursquare api and data. And the K-Mean clustering to cluster places by our needs.  \n",
    "  \n",
    "**First of all, we should have information about our user - to create best advices for him.**  \n",
    "Advisor will take listed parameters:\n",
    "+ City location\n",
    "+ List of what he interested for (just words - hotel, bar, museum etc)\n",
    "+ Max price tier from 1 (least pricey) - 4 (most pricey)\n",
    "  \n",
    "Advisor will use that data to cluster venues by category, and social statistics of people.  \n",
    "In that case - user will get result, which can be most relevent to him.  \n",
    "  \n",
    "**What will be the result?**  \n",
    "Result will be the location in town and list of most visited venues, which are near each-other to visit in one day."
   ]
  },
  {
   "cell_type": "markdown",
   "metadata": {},
   "source": [
    "## Data description/Methodology\n",
    "  \n",
    "For our needs we will use the Foursquare api to obtain needed data.  \n",
    "  \n",
    "**Parameters**\n",
    "We have 3 parameters (as described in previous section):\n",
    "1. City location\n",
    "2. List of what he interested for (just words - hotel, bar, museum etc)\n",
    "3. Max price tier from 1 (least pricey) - 4 (most pricey) \n",
    "  \n",
    "**Step 1**  \n",
    "First of all we will create dataframe of venues in town (with using location - parameter 1), which filtered by user parameters.  \n",
    "  \n",
    "We will use (https://api.foursquare.com/v2/venues/categories) to obtain categories list, and filter them by user list.  \n",
    "(lust find categories with 'name', 'pluralName' or 'shortName', that contain users words from parameter 2)  \n",
    "  \n",
    "Then we use (https://api.foursquare.com/v2/venues/search) to obtain all venues with categories from our previous list.  \n",
    "  \n",
    "Then we use (https://api.foursquare.com/v2/venues/VENUE_ID) to get detailed info about venue. ('rating', 'checkins' etc and 'price' fields)  \n",
    "And we filter list with using parameter 3\n",
    "  \n",
    "Final venues dataframe, will contain fields: (Id, Name, Latitude, Longitude, Rating, PriceTier, CheckinsCount, UsersCount, TipCount, VisitsCount)\n",
    "  \n",
    "**Step 2**  \n",
    "We filter our venue list to get 30% of top rated venues in 30% of top social active vemues. (CheckinsCount, UsersCount, TipCount, VisitsCount, and 'rating' fields)  \n",
    "  \n",
    "**Step 3**  \n",
    "We use K-Mean clustering to cluster our list of venues by location (with using their coordinates - 'Latitude', 'Longitude')  \n",
    "  \n",
    "**Step 4**  \n",
    "We choose cluster with most venues and show it on map, and also show list of venues in that cluster.  \n",
    "  \n",
    "**That is it! We obtained best location to visit in town, by our parameters. User should be satisfied.**"
   ]
  },
  {
   "cell_type": "markdown",
   "metadata": {},
   "source": [
    "## Results\n",
    "\n",
    "As the result - we got exxpected result:\n",
    "1. TOP venues in town, clustered by location\n",
    "2. Map with TOP count cluster\n",
    "  \n",
    "Problem was solved.  \n",
    "Please look at 'code' notebook for more information."
   ]
  },
  {
   "cell_type": "markdown",
   "metadata": {},
   "source": [
    "## Observations and known issues\n",
    "\n",
    "We can not obtain much data due to foursquare premium calls limitations. (only 50 venues with detailed info per day on free tier)"
   ]
  },
  {
   "cell_type": "markdown",
   "metadata": {},
   "source": [
    "## Conclustions\n",
    "\n",
    "This was an interesting course, and interesting Capstone Project!!!  \n",
    "  \n",
    "Will be glad to continue study DataScience with IBM."
   ]
  }
 ],
 "metadata": {
  "kernelspec": {
   "display_name": "Python 3",
   "language": "python",
   "name": "python3"
  },
  "language_info": {
   "codemirror_mode": {
    "name": "ipython",
    "version": 3
   },
   "file_extension": ".py",
   "mimetype": "text/x-python",
   "name": "python",
   "nbconvert_exporter": "python",
   "pygments_lexer": "ipython3",
   "version": "3.6.7"
  }
 },
 "nbformat": 4,
 "nbformat_minor": 2
}
